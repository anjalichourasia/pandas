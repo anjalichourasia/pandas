{
 "cells": [
  {
   "cell_type": "code",
   "execution_count": 113,
   "metadata": {},
   "outputs": [],
   "source": [
    "import pandas as pd\n",
    "from matplotlib import pyplot as plt"
   ]
  },
  {
   "cell_type": "code",
   "execution_count": 114,
   "metadata": {},
   "outputs": [],
   "source": [
    "df1 = pd.read_csv('Input_17_apr.csv',error_bad_lines=False)"
   ]
  },
  {
   "cell_type": "code",
   "execution_count": 115,
   "metadata": {},
   "outputs": [
    {
     "name": "stdout",
     "output_type": "stream",
     "text": [
      "<class 'pandas.core.frame.DataFrame'>\n",
      "RangeIndex: 129962 entries, 0 to 129961\n",
      "Data columns (total 26 columns):\n",
      "TIME                      129962 non-null object\n",
      "alpha                     126512 non-null float64\n",
      "topstopcontinue           126795 non-null object\n",
      "continuearming            126795 non-null object\n",
      "overrundetector           126795 non-null object\n",
      "greasedetector            126795 non-null object\n",
      "safesingle                126795 non-null object\n",
      "operationlocking          126795 non-null object\n",
      "photo                     126795 non-null object\n",
      "mainmotorreverseoutput    126498 non-null object\n",
      "overload                  126795 non-null object\n",
      "mainmotorstart            126795 non-null object\n",
      "inch                      126795 non-null object\n",
      "misfeederb                126795 non-null object\n",
      "emstop                    126795 non-null object\n",
      "hadsfootoperation         126795 non-null object\n",
      "misfeedera                126795 non-null object\n",
      "airpressure               126795 non-null object\n",
      "safelocking               126795 non-null object\n",
      "mainmotorstop             126795 non-null object\n",
      "emergencystop             126795 non-null object\n",
      "okreset                   126795 non-null object\n",
      "topstart                  126795 non-null object\n",
      "safesingle2               126795 non-null object\n",
      "continue                  126795 non-null object\n",
      "topstop                   126795 non-null object\n",
      "dtypes: float64(1), object(25)\n",
      "memory usage: 25.8+ MB\n"
     ]
    }
   ],
   "source": [
    "df1.info()"
   ]
  },
  {
   "cell_type": "code",
   "execution_count": 116,
   "metadata": {},
   "outputs": [
    {
     "name": "stdout",
     "output_type": "stream",
     "text": [
      "129962\n"
     ]
    }
   ],
   "source": [
    "c1=df1.shape[0]\n",
    "print(c1)"
   ]
  },
  {
   "cell_type": "code",
   "execution_count": 117,
   "metadata": {},
   "outputs": [],
   "source": [
    "df1.dropna(inplace=True)"
   ]
  },
  {
   "cell_type": "code",
   "execution_count": 118,
   "metadata": {},
   "outputs": [
    {
     "name": "stdout",
     "output_type": "stream",
     "text": [
      "3822\n"
     ]
    }
   ],
   "source": [
    "c11=df1.shape[0]\n",
    "loss1=c1-c11\n",
    "print(loss1)"
   ]
  },
  {
   "cell_type": "code",
   "execution_count": 119,
   "metadata": {},
   "outputs": [],
   "source": [
    "df1=df1.iloc[:,:]*1"
   ]
  },
  {
   "cell_type": "code",
   "execution_count": 120,
   "metadata": {},
   "outputs": [
    {
     "data": {
      "text/html": [
       "<div>\n",
       "<style scoped>\n",
       "    .dataframe tbody tr th:only-of-type {\n",
       "        vertical-align: middle;\n",
       "    }\n",
       "\n",
       "    .dataframe tbody tr th {\n",
       "        vertical-align: top;\n",
       "    }\n",
       "\n",
       "    .dataframe thead th {\n",
       "        text-align: right;\n",
       "    }\n",
       "</style>\n",
       "<table border=\"1\" class=\"dataframe\">\n",
       "  <thead>\n",
       "    <tr style=\"text-align: right;\">\n",
       "      <th></th>\n",
       "      <th>TIME</th>\n",
       "      <th>alpha</th>\n",
       "      <th>topstopcontinue</th>\n",
       "      <th>continuearming</th>\n",
       "      <th>overrundetector</th>\n",
       "      <th>greasedetector</th>\n",
       "      <th>safesingle</th>\n",
       "      <th>operationlocking</th>\n",
       "      <th>photo</th>\n",
       "      <th>mainmotorreverseoutput</th>\n",
       "      <th>...</th>\n",
       "      <th>misfeedera</th>\n",
       "      <th>airpressure</th>\n",
       "      <th>safelocking</th>\n",
       "      <th>mainmotorstop</th>\n",
       "      <th>emergencystop</th>\n",
       "      <th>okreset</th>\n",
       "      <th>topstart</th>\n",
       "      <th>safesingle2</th>\n",
       "      <th>continue</th>\n",
       "      <th>topstop</th>\n",
       "    </tr>\n",
       "  </thead>\n",
       "  <tbody>\n",
       "    <tr>\n",
       "      <th>0</th>\n",
       "      <td>08-04-2019 06:57</td>\n",
       "      <td>1378.0</td>\n",
       "      <td>0</td>\n",
       "      <td>0</td>\n",
       "      <td>0</td>\n",
       "      <td>1</td>\n",
       "      <td>0</td>\n",
       "      <td>1</td>\n",
       "      <td>0</td>\n",
       "      <td>0</td>\n",
       "      <td>...</td>\n",
       "      <td>0</td>\n",
       "      <td>1</td>\n",
       "      <td>0</td>\n",
       "      <td>1</td>\n",
       "      <td>1</td>\n",
       "      <td>0</td>\n",
       "      <td>0</td>\n",
       "      <td>1</td>\n",
       "      <td>0</td>\n",
       "      <td>1</td>\n",
       "    </tr>\n",
       "    <tr>\n",
       "      <th>1</th>\n",
       "      <td>08-04-2019 06:57</td>\n",
       "      <td>1378.0</td>\n",
       "      <td>0</td>\n",
       "      <td>0</td>\n",
       "      <td>0</td>\n",
       "      <td>1</td>\n",
       "      <td>0</td>\n",
       "      <td>1</td>\n",
       "      <td>0</td>\n",
       "      <td>0</td>\n",
       "      <td>...</td>\n",
       "      <td>0</td>\n",
       "      <td>1</td>\n",
       "      <td>0</td>\n",
       "      <td>1</td>\n",
       "      <td>1</td>\n",
       "      <td>0</td>\n",
       "      <td>0</td>\n",
       "      <td>1</td>\n",
       "      <td>0</td>\n",
       "      <td>1</td>\n",
       "    </tr>\n",
       "    <tr>\n",
       "      <th>2</th>\n",
       "      <td>08-04-2019 06:57</td>\n",
       "      <td>1378.0</td>\n",
       "      <td>0</td>\n",
       "      <td>0</td>\n",
       "      <td>0</td>\n",
       "      <td>1</td>\n",
       "      <td>0</td>\n",
       "      <td>1</td>\n",
       "      <td>0</td>\n",
       "      <td>0</td>\n",
       "      <td>...</td>\n",
       "      <td>0</td>\n",
       "      <td>1</td>\n",
       "      <td>0</td>\n",
       "      <td>1</td>\n",
       "      <td>1</td>\n",
       "      <td>0</td>\n",
       "      <td>0</td>\n",
       "      <td>1</td>\n",
       "      <td>0</td>\n",
       "      <td>1</td>\n",
       "    </tr>\n",
       "    <tr>\n",
       "      <th>3</th>\n",
       "      <td>08-04-2019 06:57</td>\n",
       "      <td>1378.0</td>\n",
       "      <td>0</td>\n",
       "      <td>0</td>\n",
       "      <td>0</td>\n",
       "      <td>1</td>\n",
       "      <td>0</td>\n",
       "      <td>1</td>\n",
       "      <td>0</td>\n",
       "      <td>0</td>\n",
       "      <td>...</td>\n",
       "      <td>0</td>\n",
       "      <td>1</td>\n",
       "      <td>0</td>\n",
       "      <td>1</td>\n",
       "      <td>1</td>\n",
       "      <td>0</td>\n",
       "      <td>0</td>\n",
       "      <td>1</td>\n",
       "      <td>0</td>\n",
       "      <td>1</td>\n",
       "    </tr>\n",
       "    <tr>\n",
       "      <th>4</th>\n",
       "      <td>08-04-2019 06:57</td>\n",
       "      <td>1378.0</td>\n",
       "      <td>0</td>\n",
       "      <td>0</td>\n",
       "      <td>0</td>\n",
       "      <td>1</td>\n",
       "      <td>0</td>\n",
       "      <td>1</td>\n",
       "      <td>0</td>\n",
       "      <td>0</td>\n",
       "      <td>...</td>\n",
       "      <td>0</td>\n",
       "      <td>1</td>\n",
       "      <td>0</td>\n",
       "      <td>1</td>\n",
       "      <td>1</td>\n",
       "      <td>0</td>\n",
       "      <td>0</td>\n",
       "      <td>1</td>\n",
       "      <td>0</td>\n",
       "      <td>1</td>\n",
       "    </tr>\n",
       "  </tbody>\n",
       "</table>\n",
       "<p>5 rows × 26 columns</p>\n",
       "</div>"
      ],
      "text/plain": [
       "               TIME   alpha topstopcontinue continuearming overrundetector  \\\n",
       "0  08-04-2019 06:57  1378.0               0              0               0   \n",
       "1  08-04-2019 06:57  1378.0               0              0               0   \n",
       "2  08-04-2019 06:57  1378.0               0              0               0   \n",
       "3  08-04-2019 06:57  1378.0               0              0               0   \n",
       "4  08-04-2019 06:57  1378.0               0              0               0   \n",
       "\n",
       "  greasedetector safesingle operationlocking photo mainmotorreverseoutput  \\\n",
       "0              1          0                1     0                      0   \n",
       "1              1          0                1     0                      0   \n",
       "2              1          0                1     0                      0   \n",
       "3              1          0                1     0                      0   \n",
       "4              1          0                1     0                      0   \n",
       "\n",
       "    ...   misfeedera airpressure safelocking mainmotorstop emergencystop  \\\n",
       "0   ...            0           1           0             1             1   \n",
       "1   ...            0           1           0             1             1   \n",
       "2   ...            0           1           0             1             1   \n",
       "3   ...            0           1           0             1             1   \n",
       "4   ...            0           1           0             1             1   \n",
       "\n",
       "  okreset topstart safesingle2 continue topstop  \n",
       "0       0        0           1        0       1  \n",
       "1       0        0           1        0       1  \n",
       "2       0        0           1        0       1  \n",
       "3       0        0           1        0       1  \n",
       "4       0        0           1        0       1  \n",
       "\n",
       "[5 rows x 26 columns]"
      ]
     },
     "execution_count": 120,
     "metadata": {},
     "output_type": "execute_result"
    }
   ],
   "source": [
    "df1.head()"
   ]
  },
  {
   "cell_type": "code",
   "execution_count": 50,
   "metadata": {},
   "outputs": [
    {
     "data": {
      "text/plain": [
       "<matplotlib.axes._subplots.AxesSubplot at 0x22cda3c18d0>"
      ]
     },
     "execution_count": 50,
     "metadata": {},
     "output_type": "execute_result"
    },
    {
     "data": {
      "image/png": "[encoded data removed]",
      "text/plain": [
       "<Figure size 432x288 with 1 Axes>"
      ]
     },
     "metadata": {
      "needs_background": "light"
     },
     "output_type": "display_data"
    }
   ],
   "source": [
    "df1['alpha'].plot()"
   ]
  },
  {
   "cell_type": "code",
   "execution_count": 122,
   "metadata": {},
   "outputs": [
    {
     "data": {
      "text/html": [
       "<div>\n",
       "<style scoped>\n",
       "    .dataframe tbody tr th:only-of-type {\n",
       "        vertical-align: middle;\n",
       "    }\n",
       "\n",
       "    .dataframe tbody tr th {\n",
       "        vertical-align: top;\n",
       "    }\n",
       "\n",
       "    .dataframe thead th {\n",
       "        text-align: right;\n",
       "    }\n",
       "</style>\n",
       "<table border=\"1\" class=\"dataframe\">\n",
       "  <thead>\n",
       "    <tr style=\"text-align: right;\">\n",
       "      <th></th>\n",
       "      <th>TIME</th>\n",
       "      <th>alpha</th>\n",
       "      <th>topstopcontinue</th>\n",
       "      <th>continuearming</th>\n",
       "      <th>overrundetector</th>\n",
       "      <th>greasedetector</th>\n",
       "      <th>safesingle</th>\n",
       "      <th>operationlocking</th>\n",
       "      <th>photo</th>\n",
       "      <th>mainmotorreverseoutput</th>\n",
       "      <th>...</th>\n",
       "      <th>misfeedera</th>\n",
       "      <th>airpressure</th>\n",
       "      <th>safelocking</th>\n",
       "      <th>mainmotorstop</th>\n",
       "      <th>emergencystop</th>\n",
       "      <th>okreset</th>\n",
       "      <th>topstart</th>\n",
       "      <th>safesingle2</th>\n",
       "      <th>continue</th>\n",
       "      <th>topstop</th>\n",
       "    </tr>\n",
       "  </thead>\n",
       "  <tbody>\n",
       "    <tr>\n",
       "      <th>0</th>\n",
       "      <td>08-04-2019 06:57</td>\n",
       "      <td>1378.0</td>\n",
       "      <td>0</td>\n",
       "      <td>0</td>\n",
       "      <td>0</td>\n",
       "      <td>1</td>\n",
       "      <td>0</td>\n",
       "      <td>1</td>\n",
       "      <td>0</td>\n",
       "      <td>0</td>\n",
       "      <td>...</td>\n",
       "      <td>0</td>\n",
       "      <td>1</td>\n",
       "      <td>0</td>\n",
       "      <td>1</td>\n",
       "      <td>1</td>\n",
       "      <td>0</td>\n",
       "      <td>0</td>\n",
       "      <td>1</td>\n",
       "      <td>0</td>\n",
       "      <td>1</td>\n",
       "    </tr>\n",
       "    <tr>\n",
       "      <th>1</th>\n",
       "      <td>08-04-2019 06:57</td>\n",
       "      <td>1378.0</td>\n",
       "      <td>0</td>\n",
       "      <td>0</td>\n",
       "      <td>0</td>\n",
       "      <td>1</td>\n",
       "      <td>0</td>\n",
       "      <td>1</td>\n",
       "      <td>0</td>\n",
       "      <td>0</td>\n",
       "      <td>...</td>\n",
       "      <td>0</td>\n",
       "      <td>1</td>\n",
       "      <td>0</td>\n",
       "      <td>1</td>\n",
       "      <td>1</td>\n",
       "      <td>0</td>\n",
       "      <td>0</td>\n",
       "      <td>1</td>\n",
       "      <td>0</td>\n",
       "      <td>1</td>\n",
       "    </tr>\n",
       "    <tr>\n",
       "      <th>2</th>\n",
       "      <td>08-04-2019 06:57</td>\n",
       "      <td>1378.0</td>\n",
       "      <td>0</td>\n",
       "      <td>0</td>\n",
       "      <td>0</td>\n",
       "      <td>1</td>\n",
       "      <td>0</td>\n",
       "      <td>1</td>\n",
       "      <td>0</td>\n",
       "      <td>0</td>\n",
       "      <td>...</td>\n",
       "      <td>0</td>\n",
       "      <td>1</td>\n",
       "      <td>0</td>\n",
       "      <td>1</td>\n",
       "      <td>1</td>\n",
       "      <td>0</td>\n",
       "      <td>0</td>\n",
       "      <td>1</td>\n",
       "      <td>0</td>\n",
       "      <td>1</td>\n",
       "    </tr>\n",
       "    <tr>\n",
       "      <th>3</th>\n",
       "      <td>08-04-2019 06:57</td>\n",
       "      <td>1378.0</td>\n",
       "      <td>0</td>\n",
       "      <td>0</td>\n",
       "      <td>0</td>\n",
       "      <td>1</td>\n",
       "      <td>0</td>\n",
       "      <td>1</td>\n",
       "      <td>0</td>\n",
       "      <td>0</td>\n",
       "      <td>...</td>\n",
       "      <td>0</td>\n",
       "      <td>1</td>\n",
       "      <td>0</td>\n",
       "      <td>1</td>\n",
       "      <td>1</td>\n",
       "      <td>0</td>\n",
       "      <td>0</td>\n",
       "      <td>1</td>\n",
       "      <td>0</td>\n",
       "      <td>1</td>\n",
       "    </tr>\n",
       "    <tr>\n",
       "      <th>4</th>\n",
       "      <td>08-04-2019 06:57</td>\n",
       "      <td>1378.0</td>\n",
       "      <td>0</td>\n",
       "      <td>0</td>\n",
       "      <td>0</td>\n",
       "      <td>1</td>\n",
       "      <td>0</td>\n",
       "      <td>1</td>\n",
       "      <td>0</td>\n",
       "      <td>0</td>\n",
       "      <td>...</td>\n",
       "      <td>0</td>\n",
       "      <td>1</td>\n",
       "      <td>0</td>\n",
       "      <td>1</td>\n",
       "      <td>1</td>\n",
       "      <td>0</td>\n",
       "      <td>0</td>\n",
       "      <td>1</td>\n",
       "      <td>0</td>\n",
       "      <td>1</td>\n",
       "    </tr>\n",
       "  </tbody>\n",
       "</table>\n",
       "<p>5 rows × 26 columns</p>\n",
       "</div>"
      ],
      "text/plain": [
       "               TIME   alpha topstopcontinue continuearming overrundetector  \\\n",
       "0  08-04-2019 06:57  1378.0               0              0               0   \n",
       "1  08-04-2019 06:57  1378.0               0              0               0   \n",
       "2  08-04-2019 06:57  1378.0               0              0               0   \n",
       "3  08-04-2019 06:57  1378.0               0              0               0   \n",
       "4  08-04-2019 06:57  1378.0               0              0               0   \n",
       "\n",
       "  greasedetector safesingle operationlocking photo mainmotorreverseoutput  \\\n",
       "0              1          0                1     0                      0   \n",
       "1              1          0                1     0                      0   \n",
       "2              1          0                1     0                      0   \n",
       "3              1          0                1     0                      0   \n",
       "4              1          0                1     0                      0   \n",
       "\n",
       "    ...   misfeedera airpressure safelocking mainmotorstop emergencystop  \\\n",
       "0   ...            0           1           0             1             1   \n",
       "1   ...            0           1           0             1             1   \n",
       "2   ...            0           1           0             1             1   \n",
       "3   ...            0           1           0             1             1   \n",
       "4   ...            0           1           0             1             1   \n",
       "\n",
       "  okreset topstart safesingle2 continue topstop  \n",
       "0       0        0           1        0       1  \n",
       "1       0        0           1        0       1  \n",
       "2       0        0           1        0       1  \n",
       "3       0        0           1        0       1  \n",
       "4       0        0           1        0       1  \n",
       "\n",
       "[5 rows x 26 columns]"
      ]
     },
     "execution_count": 122,
     "metadata": {},
     "output_type": "execute_result"
    }
   ],
   "source": [
    "df1.head()"
   ]
  },
  {
   "cell_type": "code",
   "execution_count": 124,
   "metadata": {
    "scrolled": true
   },
   "outputs": [],
   "source": [
    "df1['alpha']=df1['alpha'].diff()"
   ]
  },
  {
   "cell_type": "code",
   "execution_count": 125,
   "metadata": {},
   "outputs": [],
   "source": [
    "df1=df1[df1.alpha>-1]"
   ]
  },
  {
   "cell_type": "code",
   "execution_count": 127,
   "metadata": {},
   "outputs": [],
   "source": [
    "sum=df1['alpha'].cumsum()"
   ]
  },
  {
   "cell_type": "code",
   "execution_count": 128,
   "metadata": {},
   "outputs": [
    {
     "data": {
      "text/plain": [
       "<matplotlib.axes._subplots.AxesSubplot at 0x22ccb920ac8>"
      ]
     },
     "execution_count": 128,
     "metadata": {},
     "output_type": "execute_result"
    },
    {
     "data": {
      "image/png": "[encoded data removed]",
      "text/plain": [
       "<Figure size 432x288 with 1 Axes>"
      ]
     },
     "metadata": {
      "needs_background": "light"
     },
     "output_type": "display_data"
    }
   ],
   "source": [
    "sum.plot()"
   ]
  },
  {
   "cell_type": "code",
   "execution_count": null,
   "metadata": {},
   "outputs": [],
   "source": []
  },
  {
   "cell_type": "code",
   "execution_count": null,
   "metadata": {},
   "outputs": [],
   "source": []
  },
  {
   "cell_type": "code",
   "execution_count": 111,
   "metadata": {},
   "outputs": [],
   "source": [
    "sum = df1.loc[:,'alpha'] + df1.loc[:,'n_alpha']"
   ]
  },
  {
   "cell_type": "code",
   "execution_count": 112,
   "metadata": {},
   "outputs": [
    {
     "data": {
      "text/plain": [
       "<matplotlib.axes._subplots.AxesSubplot at 0x22cccd41780>"
      ]
     },
     "execution_count": 112,
     "metadata": {},
     "output_type": "execute_result"
    },
    {
     "data": {
      "image/png": "[encoded data removed]",
      "text/plain": [
       "<Figure size 432x288 with 1 Axes>"
      ]
     },
     "metadata": {
      "needs_background": "light"
     },
     "output_type": "display_data"
    }
   ],
   "source": [
    "sum.plot()"
   ]
  },
  {
   "cell_type": "code",
   "execution_count": null,
   "metadata": {},
   "outputs": [],
   "source": []
  }
 ],
 "metadata": {
  "kernelspec": {
   "display_name": "Python 3",
   "language": "python",
   "name": "python3"
  },
  "language_info": {
   "codemirror_mode": {
    "name": "ipython",
    "version": 3
   },
   "file_extension": ".py",
   "mimetype": "text/x-python",
   "name": "python",
   "nbconvert_exporter": "python",
   "pygments_lexer": "ipython3",
   "version": "3.7.0"
  }
 },
 "nbformat": 4,
 "nbformat_minor": 2
}
